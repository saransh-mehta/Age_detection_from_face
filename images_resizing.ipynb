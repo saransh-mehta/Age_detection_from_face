{
 "cells": [
  {
   "cell_type": "code",
   "execution_count": 3,
   "metadata": {
    "collapsed": true
   },
   "outputs": [],
   "source": [
    "import cv2\n",
    "import os"
   ]
  },
  {
   "cell_type": "code",
   "execution_count": 10,
   "metadata": {
    "collapsed": true
   },
   "outputs": [],
   "source": [
    "# here our aim will be to load all images and resize them into same size and save back\n",
    "\n",
    "#path for train and test images\n",
    "trainImgPath = os.path.abspath('Train')\n",
    "testImgPath = os.path.abspath('Test')"
   ]
  },
  {
   "cell_type": "code",
   "execution_count": 12,
   "metadata": {
    "collapsed": true
   },
   "outputs": [],
   "source": [
    "if not os.path.exists('train_new'):\n",
    "    os.mkdir('train_new')\n",
    "if not os.path.exists('test_new'):\n",
    "    os.mkdir('test_new')"
   ]
  },
  {
   "cell_type": "code",
   "execution_count": 22,
   "metadata": {
    "collapsed": true
   },
   "outputs": [],
   "source": [
    "# here we are loading images from train and test, resizing into (32, 32)\n",
    "# saving them back to folders trained_new and test_new\n",
    "\n",
    "for file in os.listdir(trainImgPath):\n",
    "    img = cv2.imread(os.path.join(trainImgPath, file), cv2.IMREAD_COLOR)\n",
    "    #cv2.imshow('title', img)\n",
    "    #cv2.waitKey(0)\n",
    "    #cv2.destroyAllWindows()\n",
    "    img = cv2.resize(img, (32, 32))\n",
    "    cv2.imwrite(os.path.join('train_new', file), img)\n",
    "\n",
    "for file in os.listdir(testImgPath):\n",
    "    img = cv2.imread(os.path.join(testImgPath, file), cv2.IMREAD_COLOR)\n",
    "    img = cv2.resize(img, (32, 32))\n",
    "    cv2.imwrite(os.path.join('test_new', file), img)"
   ]
  },
  {
   "cell_type": "code",
   "execution_count": null,
   "metadata": {
    "collapsed": true
   },
   "outputs": [],
   "source": [
    "\n",
    "    "
   ]
  }
 ],
 "metadata": {
  "kernelspec": {
   "display_name": "Python 3",
   "language": "python",
   "name": "python3"
  },
  "language_info": {
   "codemirror_mode": {
    "name": "ipython",
    "version": 3
   },
   "file_extension": ".py",
   "mimetype": "text/x-python",
   "name": "python",
   "nbconvert_exporter": "python",
   "pygments_lexer": "ipython3",
   "version": "3.5.2"
  }
 },
 "nbformat": 4,
 "nbformat_minor": 2
}
